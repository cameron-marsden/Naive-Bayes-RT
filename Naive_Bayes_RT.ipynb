{
 "cells": [
  {
   "cell_type": "markdown",
   "metadata": {},
   "source": [
    "# Naive Bayes Prediction For Rotten Tomatoes"
   ]
  },
  {
   "cell_type": "markdown",
   "metadata": {},
   "source": [
    "## Summary\n",
    "\n",
    "Rotten Tomatoes aggregates critics reviews of movies—resulting in a \"fresh\" percentage (with 100% indicating a perfect score). Each critic ultimately decides whether the movie was \"fresh\" or \"rotten\" overall. The analyses presented below show a Naive Bayes approach to dissecting reviews by independent words, determining which words are strong indicators of “fresh” or “rotten” reviews, and creating a model to predict the binary outcome for a new review."
   ]
  },
  {
   "cell_type": "code",
   "execution_count": 55,
   "metadata": {
    "collapsed": false
   },
   "outputs": [],
   "source": [
    "#Import pandas, numpy, pyplot, sklearn\n",
    "%matplotlib inline\n",
    "import pandas as pd\n",
    "import numpy as np\n",
    "import matplotlib.pyplot as plt\n",
    "from  sklearn.cross_validation import cross_val_score\n",
    "from sklearn.cross_validation import train_test_split\n",
    "from sklearn.naive_bayes import MultinomialNB\n",
    "from sklearn.feature_extraction.text import CountVectorizer\n",
    "import statsmodels.formula.api as smf\n",
    "from sklearn.metrics import mean_squared_error\n",
    "from sklearn.preprocessing import StandardScaler\n",
    "from sklearn.decomposition import PCA\n",
    "import warnings\n",
    "warnings.filterwarnings('ignore')"
   ]
  },
  {
   "cell_type": "code",
   "execution_count": 56,
   "metadata": {
    "collapsed": false
   },
   "outputs": [],
   "source": [
    "#Read in the two datasets (reviews and movies)\n",
    "reviews = pd.read_csv('reviews.csv')\n",
    "movies = pd.read_csv(\"movies.dat\", delimiter='\\t')\n",
    "\n",
    "#Clean the dataset so we only use reviews with quotes and a fresh/rotten rating \n",
    "reviews = reviews[~reviews.quote.isnull()]\n",
    "reviews = reviews[reviews.fresh != 'none']\n",
    "reviews = reviews[reviews.quote.str.len() > 0]\n",
    "\n",
    "#Drop unused indices\n",
    "reviews = reviews.reset_index(drop=True)"
   ]
  },
  {
   "cell_type": "markdown",
   "metadata": {},
   "source": [
    "## Data\n",
    "\n",
    "The cleaned data collected from rottentomatoes.com consists of 12,814 unique reviews with values for:\n",
    "\n",
    "* critic: The critic's name\n",
    "\n",
    "* fresh: The binary response (i.e., \"fresh\" or \"rotten\")\n",
    "\n",
    "* imdb: The IMDB ID of the movie\n",
    "\n",
    "* link: A link to the review\n",
    "\n",
    "* publication: The publication that printed the review\n",
    "\n",
    "* quote: The review itself (primary feature of interest)\n",
    "\n",
    "* review_date: When the review was published\n",
    "\n",
    "* rtid: An ID matching to another dataset of IMDB movie information\n",
    "\n",
    "* title: The title of the movie\n",
    "\n",
    "(Note that the cleaned data does not include reviews without a quote or fresh/rotten rating.)"
   ]
  },
  {
   "cell_type": "markdown",
   "metadata": {},
   "source": [
    "## Part 1: Descriptive analysis"
   ]
  },
  {
   "cell_type": "markdown",
   "metadata": {},
   "source": [
    "### 1.1: Basic features of the dataset\n",
    "\n",
    "Firstly, we can find counts of unique features within the `reviews` dataset:\n",
    "\n",
    "* How many unique reviews (quotes) are in the `reviews` dataset?\n",
    "* How many unique critics are in the `reviews` dataset?\n",
    "* How many unique movies are in the `reviews` dataset?\n",
    "* How many publications are in the `reviews` dataset?"
   ]
  },
  {
   "cell_type": "code",
   "execution_count": 57,
   "metadata": {
    "collapsed": false
   },
   "outputs": [
    {
     "name": "stdout",
     "output_type": "stream",
     "text": [
      "Number of unique reviews: 12814\n",
      "Number of unique reviewers: 541\n",
      "Number of unique movies reviewed: 1720\n",
      "Number of unique publications: 64\n"
     ]
    }
   ],
   "source": [
    "#Find unique values in dataset\n",
    "unique_reviews = reviews.quote.unique()\n",
    "unique_reviewers = reviews.critic.unique()\n",
    "unique_movies_reviews = reviews.title.unique()\n",
    "unique_publications = reviews.publication.unique()\n",
    "\n",
    "print(\"Number of unique reviews: %i\" % len(unique_reviews))\n",
    "print(\"Number of unique reviewers: %i\" % len(unique_reviewers))\n",
    "print(\"Number of unique movies reviewed: %i\" % len(unique_movies_reviews))\n",
    "print(\"Number of unique publications: %i\" % len(unique_publications))"
   ]
  },
  {
   "cell_type": "markdown",
   "metadata": {},
   "source": [
    "### 1.2 Popular Critics\n",
    "\n",
    "The following table shows the 30 most popular critics with values for the count of reviews, affiliated publication(s), and the oldest and newest reviews for each critic."
   ]
  },
  {
   "cell_type": "code",
   "execution_count": 58,
   "metadata": {
    "collapsed": false
   },
   "outputs": [
    {
     "data": {
      "text/html": [
       "<div>\n",
       "<table border=\"1\" class=\"dataframe\">\n",
       "  <thead>\n",
       "    <tr>\n",
       "      <th></th>\n",
       "      <th>critic</th>\n",
       "      <th colspan=\"2\" halign=\"left\">review_date</th>\n",
       "      <th>publication</th>\n",
       "    </tr>\n",
       "    <tr>\n",
       "      <th></th>\n",
       "      <th>size</th>\n",
       "      <th>min</th>\n",
       "      <th>max</th>\n",
       "      <th>unique</th>\n",
       "    </tr>\n",
       "    <tr>\n",
       "      <th>critic</th>\n",
       "      <th></th>\n",
       "      <th></th>\n",
       "      <th></th>\n",
       "      <th></th>\n",
       "    </tr>\n",
       "  </thead>\n",
       "  <tbody>\n",
       "    <tr>\n",
       "      <th>Roger Ebert</th>\n",
       "      <td>1150</td>\n",
       "      <td>1/1/2000 0:00</td>\n",
       "      <td>9/30/2005 0:00</td>\n",
       "      <td>[Chicago Sun-Times, At the Movies]</td>\n",
       "    </tr>\n",
       "    <tr>\n",
       "      <th>James Berardinelli</th>\n",
       "      <td>833</td>\n",
       "      <td>1/1/1932 0:00</td>\n",
       "      <td>9/25/2003 0:00</td>\n",
       "      <td>[ReelViews]</td>\n",
       "    </tr>\n",
       "    <tr>\n",
       "      <th>Janet Maslin</th>\n",
       "      <td>526</td>\n",
       "      <td>1/1/2000 0:00</td>\n",
       "      <td>9/7/2010 0:00</td>\n",
       "      <td>[New York Times]</td>\n",
       "    </tr>\n",
       "    <tr>\n",
       "      <th>Variety Staff</th>\n",
       "      <td>449</td>\n",
       "      <td>1/11/2008 0:00</td>\n",
       "      <td>9/7/2010 0:00</td>\n",
       "      <td>[Variety]</td>\n",
       "    </tr>\n",
       "    <tr>\n",
       "      <th>Jonathan Rosenbaum</th>\n",
       "      <td>420</td>\n",
       "      <td>1/1/2000 0:00</td>\n",
       "      <td>9/4/2007 0:00</td>\n",
       "      <td>[Chicago Reader]</td>\n",
       "    </tr>\n",
       "    <tr>\n",
       "      <th>Desson Thomson</th>\n",
       "      <td>373</td>\n",
       "      <td>1/1/2000 0:00</td>\n",
       "      <td>9/25/2002 0:00</td>\n",
       "      <td>[Washington Post]</td>\n",
       "    </tr>\n",
       "    <tr>\n",
       "      <th>Geoff Andrew</th>\n",
       "      <td>361</td>\n",
       "      <td>1/26/2006 0:00</td>\n",
       "      <td>9/30/2006 0:00</td>\n",
       "      <td>[Time Out]</td>\n",
       "    </tr>\n",
       "    <tr>\n",
       "      <th>Dave Kehr</th>\n",
       "      <td>360</td>\n",
       "      <td>1/1/2000 0:00</td>\n",
       "      <td>9/6/2007 0:00</td>\n",
       "      <td>[Chicago Reader, Chicago Tribune, New York Daily News]</td>\n",
       "    </tr>\n",
       "    <tr>\n",
       "      <th>Kenneth Turan</th>\n",
       "      <td>282</td>\n",
       "      <td>1/1/2000 0:00</td>\n",
       "      <td>8/3/2013 0:00</td>\n",
       "      <td>[Los Angeles Times]</td>\n",
       "    </tr>\n",
       "    <tr>\n",
       "      <th>Mick LaSalle</th>\n",
       "      <td>280</td>\n",
       "      <td>1/1/2000 0:00</td>\n",
       "      <td>9/29/2006 0:00</td>\n",
       "      <td>[San Francisco Chronicle]</td>\n",
       "    </tr>\n",
       "    <tr>\n",
       "      <th>Owen Gleiberman</th>\n",
       "      <td>241</td>\n",
       "      <td>1/1/1991 0:00</td>\n",
       "      <td>9/8/1995 0:00</td>\n",
       "      <td>[Entertainment Weekly]</td>\n",
       "    </tr>\n",
       "    <tr>\n",
       "      <th>Rita Kempley</th>\n",
       "      <td>236</td>\n",
       "      <td>1/1/2000 0:00</td>\n",
       "      <td>8/29/2002 0:00</td>\n",
       "      <td>[Washington Post]</td>\n",
       "    </tr>\n",
       "    <tr>\n",
       "      <th>Joe Baltake</th>\n",
       "      <td>231</td>\n",
       "      <td>1/1/2000 0:00</td>\n",
       "      <td>8/6/2003 0:00</td>\n",
       "      <td>[Sacramento Bee, Passionate Moviegoer, Philadelphia Daily News]</td>\n",
       "    </tr>\n",
       "    <tr>\n",
       "      <th>Todd McCarthy</th>\n",
       "      <td>223</td>\n",
       "      <td>1/1/2000 0:00</td>\n",
       "      <td>9/9/2009 0:00</td>\n",
       "      <td>[Variety]</td>\n",
       "    </tr>\n",
       "    <tr>\n",
       "      <th>Vincent Canby</th>\n",
       "      <td>207</td>\n",
       "      <td>1/1/2000 0:00</td>\n",
       "      <td>8/30/2004 0:00</td>\n",
       "      <td>[New York Times]</td>\n",
       "    </tr>\n",
       "    <tr>\n",
       "      <th>Hal Hinson</th>\n",
       "      <td>174</td>\n",
       "      <td>1/1/2000 0:00</td>\n",
       "      <td>8/1/2001 0:00</td>\n",
       "      <td>[Washington Post]</td>\n",
       "    </tr>\n",
       "    <tr>\n",
       "      <th>Susan Stark</th>\n",
       "      <td>167</td>\n",
       "      <td>1/1/2000 0:00</td>\n",
       "      <td>8/24/2001 0:00</td>\n",
       "      <td>[Detroit News]</td>\n",
       "    </tr>\n",
       "    <tr>\n",
       "      <th>Stephen Holden</th>\n",
       "      <td>166</td>\n",
       "      <td>1/1/2000 0:00</td>\n",
       "      <td>9/29/2005 0:00</td>\n",
       "      <td>[New York Times]</td>\n",
       "    </tr>\n",
       "    <tr>\n",
       "      <th>Derek Adams</th>\n",
       "      <td>154</td>\n",
       "      <td>1/26/2006 0:00</td>\n",
       "      <td>8/16/2007 0:00</td>\n",
       "      <td>[Time Out]</td>\n",
       "    </tr>\n",
       "    <tr>\n",
       "      <th>Kevin Thomas</th>\n",
       "      <td>145</td>\n",
       "      <td>1/1/2000 0:00</td>\n",
       "      <td>9/30/2005 0:00</td>\n",
       "      <td>[Los Angeles Times]</td>\n",
       "    </tr>\n",
       "    <tr>\n",
       "      <th>Peter Stack</th>\n",
       "      <td>138</td>\n",
       "      <td>1/1/2000 0:00</td>\n",
       "      <td>8/1/2001 0:00</td>\n",
       "      <td>[San Francisco Chronicle]</td>\n",
       "    </tr>\n",
       "    <tr>\n",
       "      <th>Bosley Crowther</th>\n",
       "      <td>137</td>\n",
       "      <td>1/1/2000 0:00</td>\n",
       "      <td>8/8/2006 0:00</td>\n",
       "      <td>[New York Times]</td>\n",
       "    </tr>\n",
       "    <tr>\n",
       "      <th>Rick Groen</th>\n",
       "      <td>129</td>\n",
       "      <td>1/16/2009 0:00</td>\n",
       "      <td>9/12/2008 0:00</td>\n",
       "      <td>[Globe and Mail]</td>\n",
       "    </tr>\n",
       "    <tr>\n",
       "      <th>Edward Guthmann</th>\n",
       "      <td>121</td>\n",
       "      <td>1/1/2000 0:00</td>\n",
       "      <td>6/19/2002 0:00</td>\n",
       "      <td>[San Francisco Chronicle]</td>\n",
       "    </tr>\n",
       "    <tr>\n",
       "      <th>Lisa Schwarzbaum</th>\n",
       "      <td>117</td>\n",
       "      <td>1/1/1979 0:00</td>\n",
       "      <td>9/7/2011 0:00</td>\n",
       "      <td>[Entertainment Weekly]</td>\n",
       "    </tr>\n",
       "    <tr>\n",
       "      <th>Liam Lacey</th>\n",
       "      <td>111</td>\n",
       "      <td>1/16/2009 0:00</td>\n",
       "      <td>9/19/2003 0:00</td>\n",
       "      <td>[Globe and Mail]</td>\n",
       "    </tr>\n",
       "    <tr>\n",
       "      <th>Emanuel Levy</th>\n",
       "      <td>110</td>\n",
       "      <td>1/1/2000 0:00</td>\n",
       "      <td>9/1/2008 0:00</td>\n",
       "      <td>[Variety]</td>\n",
       "    </tr>\n",
       "    <tr>\n",
       "      <th>Richard Schickel</th>\n",
       "      <td>106</td>\n",
       "      <td>1/1/2000 0:00</td>\n",
       "      <td>9/4/2008 0:00</td>\n",
       "      <td>[The Atlantic, TIME Magazine]</td>\n",
       "    </tr>\n",
       "    <tr>\n",
       "      <th>Richard Corliss</th>\n",
       "      <td>104</td>\n",
       "      <td>1/13/2010 0:00</td>\n",
       "      <td>9/7/2008 0:00</td>\n",
       "      <td>[TIME Magazine]</td>\n",
       "    </tr>\n",
       "    <tr>\n",
       "      <th>Michael Wilmington</th>\n",
       "      <td>103</td>\n",
       "      <td>1/1/2000 0:00</td>\n",
       "      <td>9/19/2002 0:00</td>\n",
       "      <td>[Chicago Tribune, Los Angeles Times]</td>\n",
       "    </tr>\n",
       "  </tbody>\n",
       "</table>\n",
       "</div>"
      ],
      "text/plain": [
       "                   critic     review_date                  \\\n",
       "                     size             min             max   \n",
       "critic                                                      \n",
       "Roger Ebert          1150   1/1/2000 0:00  9/30/2005 0:00   \n",
       "James Berardinelli    833   1/1/1932 0:00  9/25/2003 0:00   \n",
       "Janet Maslin          526   1/1/2000 0:00   9/7/2010 0:00   \n",
       "Variety Staff         449  1/11/2008 0:00   9/7/2010 0:00   \n",
       "Jonathan Rosenbaum    420   1/1/2000 0:00   9/4/2007 0:00   \n",
       "Desson Thomson        373   1/1/2000 0:00  9/25/2002 0:00   \n",
       "Geoff Andrew          361  1/26/2006 0:00  9/30/2006 0:00   \n",
       "Dave Kehr             360   1/1/2000 0:00   9/6/2007 0:00   \n",
       "Kenneth Turan         282   1/1/2000 0:00   8/3/2013 0:00   \n",
       "Mick LaSalle          280   1/1/2000 0:00  9/29/2006 0:00   \n",
       "Owen Gleiberman       241   1/1/1991 0:00   9/8/1995 0:00   \n",
       "Rita Kempley          236   1/1/2000 0:00  8/29/2002 0:00   \n",
       "Joe Baltake           231   1/1/2000 0:00   8/6/2003 0:00   \n",
       "Todd McCarthy         223   1/1/2000 0:00   9/9/2009 0:00   \n",
       "Vincent Canby         207   1/1/2000 0:00  8/30/2004 0:00   \n",
       "Hal Hinson            174   1/1/2000 0:00   8/1/2001 0:00   \n",
       "Susan Stark           167   1/1/2000 0:00  8/24/2001 0:00   \n",
       "Stephen Holden        166   1/1/2000 0:00  9/29/2005 0:00   \n",
       "Derek Adams           154  1/26/2006 0:00  8/16/2007 0:00   \n",
       "Kevin Thomas          145   1/1/2000 0:00  9/30/2005 0:00   \n",
       "Peter Stack           138   1/1/2000 0:00   8/1/2001 0:00   \n",
       "Bosley Crowther       137   1/1/2000 0:00   8/8/2006 0:00   \n",
       "Rick Groen            129  1/16/2009 0:00  9/12/2008 0:00   \n",
       "Edward Guthmann       121   1/1/2000 0:00  6/19/2002 0:00   \n",
       "Lisa Schwarzbaum      117   1/1/1979 0:00   9/7/2011 0:00   \n",
       "Liam Lacey            111  1/16/2009 0:00  9/19/2003 0:00   \n",
       "Emanuel Levy          110   1/1/2000 0:00   9/1/2008 0:00   \n",
       "Richard Schickel      106   1/1/2000 0:00   9/4/2008 0:00   \n",
       "Richard Corliss       104  1/13/2010 0:00   9/7/2008 0:00   \n",
       "Michael Wilmington    103   1/1/2000 0:00  9/19/2002 0:00   \n",
       "\n",
       "                                                                        publication  \n",
       "                                                                             unique  \n",
       "critic                                                                               \n",
       "Roger Ebert                                      [Chicago Sun-Times, At the Movies]  \n",
       "James Berardinelli                                                      [ReelViews]  \n",
       "Janet Maslin                                                       [New York Times]  \n",
       "Variety Staff                                                             [Variety]  \n",
       "Jonathan Rosenbaum                                                 [Chicago Reader]  \n",
       "Desson Thomson                                                    [Washington Post]  \n",
       "Geoff Andrew                                                             [Time Out]  \n",
       "Dave Kehr                    [Chicago Reader, Chicago Tribune, New York Daily News]  \n",
       "Kenneth Turan                                                   [Los Angeles Times]  \n",
       "Mick LaSalle                                              [San Francisco Chronicle]  \n",
       "Owen Gleiberman                                              [Entertainment Weekly]  \n",
       "Rita Kempley                                                      [Washington Post]  \n",
       "Joe Baltake         [Sacramento Bee, Passionate Moviegoer, Philadelphia Daily News]  \n",
       "Todd McCarthy                                                             [Variety]  \n",
       "Vincent Canby                                                      [New York Times]  \n",
       "Hal Hinson                                                        [Washington Post]  \n",
       "Susan Stark                                                          [Detroit News]  \n",
       "Stephen Holden                                                     [New York Times]  \n",
       "Derek Adams                                                              [Time Out]  \n",
       "Kevin Thomas                                                    [Los Angeles Times]  \n",
       "Peter Stack                                               [San Francisco Chronicle]  \n",
       "Bosley Crowther                                                    [New York Times]  \n",
       "Rick Groen                                                         [Globe and Mail]  \n",
       "Edward Guthmann                                           [San Francisco Chronicle]  \n",
       "Lisa Schwarzbaum                                             [Entertainment Weekly]  \n",
       "Liam Lacey                                                         [Globe and Mail]  \n",
       "Emanuel Levy                                                              [Variety]  \n",
       "Richard Schickel                                      [The Atlantic, TIME Magazine]  \n",
       "Richard Corliss                                                     [TIME Magazine]  \n",
       "Michael Wilmington                             [Chicago Tribune, Los Angeles Times]  "
      ]
     },
     "execution_count": 58,
     "metadata": {},
     "output_type": "execute_result"
    }
   ],
   "source": [
    "#Define functions to use with grouby\n",
    "f = {\"critic\":[\"size\"], \"review_date\":[\"min\",\"max\"], \"publication\":[\"unique\"]}\n",
    "reviews_critic = reviews.groupby([\"critic\"]).agg(f)\n",
    "\n",
    "#Sort by number of reviews\n",
    "reviews_critic_sorted = reviews_critic.sort_values((\"critic\",\"size\"),ascending=False)\n",
    "top30_critics = reviews_critic_sorted[0:30]\n",
    "\n",
    "pd.options.display.max_colwidth = 100\n",
    "top30_critics                                          "
   ]
  },
  {
   "cell_type": "markdown",
   "metadata": {},
   "source": [
    "### 1.4 Ratings over time\n",
    "\n",
    "The following histogram uses a separate `movies` dataset from IMDB showing how the average rating per movie has evolved over time. \n",
    "\n",
    "From this plot, we see that around 1980-90, the number of unique movies reviewed by critics increases dramatically. There also seems to be a time-related pattern, with movie ratings for pre-1980s showing higher averages. However, it is highly likely that the number of critics reviewing earlier movies is lower than the number of critics reviewing more recent releases. \n",
    "\n",
    "(Also, in my opinion, critics forget to remove their rose-tinted glasses when viewing movies from the \"golden age of Hollywood.\")"
   ]
  },
  {
   "cell_type": "code",
   "execution_count": 59,
   "metadata": {
    "collapsed": false
   },
   "outputs": [
    {
     "data": {
      "image/png": "[encoded data removed]",
      "text/plain": [
       "<matplotlib.figure.Figure at 0x1f6497bd0b8>"
      ]
     },
     "metadata": {},
     "output_type": "display_data"
    }
   ],
   "source": [
    "#Force rtAllCriticsRating to be numeric\n",
    "movies[\"allratings\"] = pd.to_numeric(movies.rtAllCriticsRating, errors=\"coerce\")\n",
    "\n",
    "#Create subset of data that only includes ratings > 0\n",
    "rated_movies = movies[(movies.allratings > 0)]\n",
    "average_rating_year = rated_movies.groupby(\"year\").allratings.mean()\n",
    "#Create scatterplot with avrage rating per movie and average of all movies within each year\n",
    "\n",
    "ax2 = plt.subplot(111)\n",
    "ax2.plot(rated_movies.year, rated_movies.allratings, \"ko\",\n",
    "         markersize=1.5, alpha=0.1, label=\"Average Rating per Movie\")\n",
    "ax2.plot(average_rating_year.index,average_rating_year,\n",
    "         color=\"orange\",linewidth=2,label=\"Average of All Movies Within a Year\")\n",
    "plt.legend(bbox_to_anchor=(0.765,-0.15), loc=1, borderaxespad=0.)\n",
    "\n",
    "#Get rid of axes and tick marks on top and right\n",
    "ax2.spines[\"right\"].set_visible(False)\n",
    "ax2.spines[\"top\"].set_visible(False)\n",
    "ax2.yaxis.set_ticks_position(\"left\")\n",
    "ax2.xaxis.set_ticks_position(\"bottom\")\n",
    "\n",
    "plt.title(\"Average Rating over Time\")\n",
    "plt.xlabel(\"Year\")\n",
    "plt.ylabel(\"Average Movie Rating\")\n",
    "\n",
    "plt.show()"
   ]
  },
  {
   "cell_type": "markdown",
   "metadata": {},
   "source": [
    "## Part 2: Naive Bayes\n",
    "\n",
    "Utilizing scikit-learn's countvectorizer function (http://scikit-learn.org/stable/modules/generated/sklearn.feature_extraction.text.CountVectorizer.html), we can convert raw text fields into \"bag of words\" vectors—transforming the data into counts of unique word used within each review. "
   ]
  },
  {
   "cell_type": "markdown",
   "metadata": {},
   "source": [
    "### 2.1 Creating X input and Y output\n",
    "\n",
    "Using the `reviews` dataframe, we create X and Y arrays:\n",
    "    \n",
    " * X is the input `(nreview, nwords)` array. Each row corresponds to a bag-of-words representation for a single review.\n",
    " * Y is the output `nreview`-element 1/0 array, indicating whether a review is fresh (1) or rotten (0)."
   ]
  },
  {
   "cell_type": "code",
   "execution_count": 60,
   "metadata": {
    "collapsed": false
   },
   "outputs": [],
   "source": [
    "\"\"\"\n",
    "Function\n",
    "--------\n",
    "make_xy\n",
    "\n",
    "Build a bag-of-words training set for the review data\n",
    "\n",
    "Parameters\n",
    "-----------\n",
    "reviews : Pandas DataFrame\n",
    "    The review data from above\n",
    "    \n",
    "vectorizer : CountVectorizer object (optional)\n",
    "    A CountVectorizer object to use. If None,\n",
    "    then create and fit a new CountVectorizer.\n",
    "    Otherwise, re-fit the provided CountVectorizer\n",
    "    using the reviews data\n",
    "    \n",
    "mindf : float (optional)\n",
    "    Allows user to specify min_df to use within CountVectorizer function.\n",
    "    Default is 0.\n",
    "    \n",
    "Returns\n",
    "-------\n",
    "X : numpy array (dims: nreview, nwords)\n",
    "    Bag-of-words representation for each review.\n",
    "Y : numpy array (dims: nreview)\n",
    "    1/0 array. 1 = fresh review, 0 = rotten review\n",
    "\n",
    "Examples\n",
    "--------\n",
    "X, Y = make_xy(reviews)\n",
    "\"\"\"\n",
    "def make_xy(reviews, vectorizer=None, mindf=0):\n",
    "    vectorizer = CountVectorizer(min_df=mindf)\n",
    "    # call `fit` to build the vocabulary\n",
    "    vectorizer.fit(reviews.quote.values)\n",
    "    x = vectorizer.transform(reviews.quote.values)\n",
    "    X = x.tocsc()\n",
    "    #Set Y as binary variable with \"fresh\"=1 and \"rotten\"=0\n",
    "    Y = (reviews.fresh==\"fresh\").values.astype(np.int)\n",
    "    return X, Y"
   ]
  },
  {
   "cell_type": "code",
   "execution_count": 61,
   "metadata": {
    "collapsed": false
   },
   "outputs": [],
   "source": [
    "#Create vecotrized arrays\n",
    "X, Y = make_xy(reviews)"
   ]
  },
  {
   "cell_type": "markdown",
   "metadata": {},
   "source": [
    "### 2.2 Test-Train split\n",
    "\n",
    "Now, we randomly split the data into training and testing data."
   ]
  },
  {
   "cell_type": "code",
   "execution_count": 62,
   "metadata": {
    "collapsed": false
   },
   "outputs": [],
   "source": [
    "#Split data into training and test\n",
    "X_train, X_test, y_train, y_test = train_test_split(X, Y, test_size=0.34, random_state=0)"
   ]
  },
  {
   "cell_type": "markdown",
   "metadata": {},
   "source": [
    "### 2.3 Naive Bayes with `MultinomialNB`\n",
    "Given the response variable of interest is binary, we model the training data using the MultinomialNB Naive Bayes classifier (http://scikit-learn.org/stable/modules/generated/sklearn.naive_bayes.MultinomialNB.html).  "
   ]
  },
  {
   "cell_type": "code",
   "execution_count": 63,
   "metadata": {
    "collapsed": false
   },
   "outputs": [
    {
     "name": "stdout",
     "output_type": "stream",
     "text": [
      "Training set prediction accuracy: 0.9243\n",
      "Testing set prediction accuracy: 0.7701\n"
     ]
    }
   ],
   "source": [
    "#Use Multinomial classifier\n",
    "clf = MultinomialNB()\n",
    "#Fit the function to given training values of x and y\n",
    "clf.fit(X_train, y_train)\n",
    "my_model = clf.fit(X_train, y_train)\n",
    "\n",
    "#Find accuracy for training and testing data using the fitted model\n",
    "#Use scikit's score function (mean accuracy on given data/labels)\n",
    "training_accuracy = my_model.score(X_train, y_train)\n",
    "testing_accuracy = my_model.score(X_test, y_test)\n",
    "\n",
    "print(\"Training set prediction accuracy: %.4f\" % (training_accuracy))\n",
    "print(\"Testing set prediction accuracy: %.4f\" % (testing_accuracy))"
   ]
  },
  {
   "cell_type": "markdown",
   "metadata": {},
   "source": [
    "Using the default smoothing parameter $\\alpha$  = 1 with fitted priors, the Naive Bayes method correctly predicted 92.43% of the training set's \"rotton/fresh\" category given the vectorized review quotes. \n",
    "\n",
    "Using the same model fitted with the training set, the Naive Bayes method for the testing set correctly predicted 77.01% of the actual review category."
   ]
  },
  {
   "cell_type": "markdown",
   "metadata": {},
   "source": [
    "## Part 3: Evaluation\n",
    "\n",
    "### 3.1 Likelihood\n",
    "\n",
    "Using `fitted_model.predict_logproba`, we can find the log-likelihood for the training and testing sets."
   ]
  },
  {
   "cell_type": "code",
   "execution_count": 64,
   "metadata": {
    "collapsed": false
   },
   "outputs": [
    {
     "name": "stdout",
     "output_type": "stream",
     "text": [
      "Log-Likelihood for Training Set: -1620.2872\n",
      "Log-Likelihood for Testing Set: -2663.4488\n"
     ]
    }
   ],
   "source": [
    "\"\"\"\n",
    "Function\n",
    "--------\n",
    "log_likelihood\n",
    "\n",
    "Compute the log likelihood of a dataset according to a bayesian classifier. \n",
    "The Log Likelihood is defined by\n",
    "\n",
    "L = Sum_fresh(logP(fresh)) + Sum_rotten(logP(rotten))\n",
    "\n",
    "Where Sum_fresh indicates a sum over all fresh reviews, \n",
    "and Sum_rotten indicates a sum over rotten reviews\n",
    "    \n",
    "Parameters\n",
    "----------\n",
    "model : Bayesian classifier\n",
    "x : (nexample, nfeature) array\n",
    "    The input data\n",
    "y : (nexample) integer array\n",
    "    Whether each review is Fresh\n",
    "\"\"\"\n",
    "\n",
    "def log_likelihood(model, x, y):\n",
    "    prob = model.predict_log_proba(x)\n",
    "    rotten = y == 0\n",
    "    fresh = ~rotten\n",
    "    return(prob[rotten, 0].sum() + prob[fresh, 1].sum())\n",
    "\n",
    "# output the likelihood of your test data (example - you may need to \n",
    "# change the names of the variables below to match your code in 2.2 and 2.3\n",
    "llk_train = log_likelihood(my_model, X_train, y_train)\n",
    "llk_test = log_likelihood(my_model, X_test, y_test)\n",
    "\n",
    "print(\"Log-Likelihood for Training Set: %.4f\" % (llk_train))\n",
    "print(\"Log-Likelihood for Testing Set: %.4f\" % (llk_test))"
   ]
  },
  {
   "cell_type": "markdown",
   "metadata": {},
   "source": [
    "### 3.2 Cross-Validation\n",
    "\n",
    "The Naive Bayes classifier has hyperparameters that can improve prediction:\n",
    "\n",
    " 1. The `min_df` keyword in `CountVectorizer`, which will ignore words which appear in fewer than `min_df` fraction of reviews. Words that appear only once or twice can lead to overfitting, since words which occur only a few times might correlate very well with Fresh/Rotten reviews by chance in the training dataset.\n",
    " \n",
    " 2. The `alpha` (http://scikit-learn.org/stable/modules/naive_bayes.html#multinomial-naive-bayes) in the Bayesian classifier is a \"smoothing parameter\"—increasing the value decreases the sensitivity to any single feature, and tends to pull prediction probabilities closer to 50%. \n",
    "\n",
    "Using cross-validation, we can loop over different ($\\alpha$, min_df) combinations with the goal of improving the classifier."
   ]
  },
  {
   "cell_type": "code",
   "execution_count": 65,
   "metadata": {
    "collapsed": false
   },
   "outputs": [
    {
     "name": "stdout",
     "output_type": "stream",
     "text": [
      "Maximum log-likelihood of -2546.7277 achieved when alpha = 5.00, and min_df = 1e-03\n"
     ]
    }
   ],
   "source": [
    "#Grid of parameters to search over\n",
    "alphas = [0, .1, 1, 5, 10, 50]\n",
    "min_dfs = [1e-5, 1e-4, 1e-3, 1e-2, 1e-1]\n",
    "\n",
    "#Initalize the \"best\" values that the loop will fill\n",
    "best_alpha = None\n",
    "best_min_df = None\n",
    "max_loglike = -np.inf\n",
    "\n",
    "for alpha in alphas:\n",
    "    for min_df in min_dfs:      \n",
    "        X, Y = make_xy(reviews, mindf=min_df)\n",
    "        #Add alpha argument to clf\n",
    "        clf = MultinomialNB(alpha = alpha)\n",
    "        #Find current iteration's mean cross-validated log-likelihood using given cross_val_score\n",
    "        llk_cross = cross_val_score(clf,X,Y,log_likelihood).mean()\n",
    "        #Determine if the new likelihood is the best\n",
    "        if llk_cross > max_loglike:\n",
    "            #If we have the best, update the values of best_alpha, best_min_df, and max_loglike to current iteration\n",
    "            best_alpha = alpha\n",
    "            best_min_df = min_df\n",
    "            max_loglike = llk_cross\n",
    "#After running the loop for each combination of given alphas and min_dfs, report the optimized results\n",
    "print(\"Maximum log-likelihood of %.4f achieved when alpha = %.2f, and min_df = %.0e\" % (max_loglike,best_alpha,best_min_df))"
   ]
  },
  {
   "cell_type": "markdown",
   "metadata": {},
   "source": [
    "### 3.3 Putting it together\n",
    "\n",
    "In this case, setting alpha=5 and min_df=0.001 results in the maximum likelihood of values tested within the loop. Now we can use the optimized hyperparameters to run the classifier again."
   ]
  },
  {
   "cell_type": "code",
   "execution_count": 66,
   "metadata": {
    "collapsed": false
   },
   "outputs": [
    {
     "name": "stdout",
     "output_type": "stream",
     "text": [
      "Training set prediction accuracy: 0.7936\n",
      "Testing set prediction accuracy: 0.7370\n"
     ]
    }
   ],
   "source": [
    "#Create vecotrized arrays\n",
    "X, Y = make_xy(reviews, mindf=1e-3)\n",
    "#Split data into training and test\n",
    "X_train, X_test, y_train, y_test = train_test_split(X, Y, test_size=0.34, random_state=0)\n",
    "#Fit the function to the training set\n",
    "\n",
    "#Use Multinomial classifier with alpha value found in part 2\n",
    "clf = MultinomialNB(alpha=5)\n",
    "\n",
    "#Fit the function to given training values of x and y\n",
    "clf.fit(X_train, y_train)\n",
    "my_new_model = clf.fit(X_train, y_train)\n",
    "\n",
    "#Find accuracy for training data\n",
    "training_accuracy = my_new_model.score(X_train, y_train)\n",
    "testing_accuracy = my_new_model.score(X_test, y_test)\n",
    "\n",
    "print(\"Training set prediction accuracy: %.4f\" % (training_accuracy))\n",
    "print(\"Testing set prediction accuracy: %.4f\" % (testing_accuracy))"
   ]
  },
  {
   "cell_type": "markdown",
   "metadata": {},
   "source": [
    "The results point to a less accurate training set (i.e., previous one was likely overfitting), but the testing accuracy also performed slightly worse. In this case, overfitting provided better accuracy.\n",
    "\n",
    "(Note: We could try testing max_df and sensible stop-words to reduce overfitting in a way that produces more accurate test results.)"
   ]
  },
  {
   "cell_type": "markdown",
   "metadata": {},
   "source": [
    "### Accuracy instead of Likelihood\n",
    "\n",
    "Using classification accuracy instead of likelihood as our evaluation metric, we can run the previous loop again, find optimal values for alpha and min_df, and test the model again."
   ]
  },
  {
   "cell_type": "code",
   "execution_count": 67,
   "metadata": {
    "collapsed": false
   },
   "outputs": [
    {
     "name": "stdout",
     "output_type": "stream",
     "text": [
      "Maximum accuracy of 0.7466 achieved when alpha = 1.00, and min_df = 1e-05\n"
     ]
    }
   ],
   "source": [
    "#the grid of parameters to search over\n",
    "alphas = [0, .1, 1, 5, 10, 50]\n",
    "min_dfs = [1e-5, 1e-4, 1e-3, 1e-2, 1e-1]\n",
    "\n",
    "#Find the best value for alpha and min_df, and the best classifier\n",
    "best_alpha = None\n",
    "best_min_df = None\n",
    "max_loglike = -np.inf\n",
    "\n",
    "for alpha in alphas:\n",
    "    for min_df in min_dfs:      \n",
    "        X, Y = make_xy(reviews, mindf=min_df)\n",
    "        #Add alpha argument to clf\n",
    "        clf = MultinomialNB(alpha = alpha)\n",
    "        #Find current iteration's mean cross-validated ****ACCURACY**** using given cross_val_score\n",
    "        llk_cross = cross_val_score(clf,X,Y,scoring=\"accuracy\").mean()\n",
    "        #Determine if the new likelihood is the best\n",
    "        if llk_cross > max_loglike:\n",
    "            #If we have the best, update the values of best_alpha, best_min_df, and max_loglike to current iteration\n",
    "            best_alpha = alpha\n",
    "            best_min_df = min_df\n",
    "            max_loglike = llk_cross\n",
    "#After running the loop for each combination of given alphas and min_dfs, report the optimized results\n",
    "print(\"Maximum accuracy of %.4f achieved when alpha = %.2f, and min_df = %.0e\" % (max_loglike,best_alpha,best_min_df))"
   ]
  },
  {
   "cell_type": "code",
   "execution_count": 68,
   "metadata": {
    "collapsed": false
   },
   "outputs": [
    {
     "name": "stdout",
     "output_type": "stream",
     "text": [
      "Training set prediction accuracy: 0.9243\n",
      "Testing set prediction accuracy: 0.7701\n"
     ]
    }
   ],
   "source": [
    "#Create vecotrized arrays\n",
    "X, Y = make_xy(reviews, mindf=1e-5)\n",
    "#Split data into training and test\n",
    "X_train, X_test, y_train, y_test = train_test_split(X, Y, test_size=0.34, random_state=0)\n",
    "#Fit the function to the training set\n",
    "\n",
    "#Use Multinomial classifier with alpha value found in part 2\n",
    "clf = MultinomialNB(alpha=1)\n",
    "\n",
    "#Fit the function to given training values of x and y\n",
    "my_new_model_2 = clf.fit(X_train, y_train)\n",
    "\n",
    "#Find accuracy for training data\n",
    "training_accuracy = my_new_model_2.score(X_train, y_train)\n",
    "testing_accuracy = my_new_model_2.score(X_test, y_test)\n",
    "\n",
    "print(\"Training set prediction accuracy: %.4f\" % (training_accuracy))\n",
    "print(\"Testing set prediction accuracy: %.4f\" % (testing_accuracy))"
   ]
  },
  {
   "cell_type": "markdown",
   "metadata": {},
   "source": [
    "Using accuracy instead of log-likelihood as the method to optimize the model produces min_df=0.00001 and $\\alpha$ = 1 (the default value for MultinomialNB). Given that min_df is only changing from default value 0 by $\\frac{1}{100,000}$, our training and testing prediction accuracy values are very similar to those found in section 2.3."
   ]
  },
  {
   "cell_type": "markdown",
   "metadata": {},
   "source": [
    "### 3.5 Interpretation\n",
    "\n",
    "Now we can dive into finding the words that best predict a fresh or rotten review using our classifier and the `vectorizer.get_feature_names` method. determine which words best predict a positive or negative review."
   ]
  },
  {
   "cell_type": "code",
   "execution_count": 69,
   "metadata": {
    "collapsed": false
   },
   "outputs": [],
   "source": [
    "#Recreating original fit\n",
    "my_vectorizer = CountVectorizer()\n",
    "my_vectorizer.fit(reviews.quote.values)\n",
    "x = my_vectorizer.transform(reviews.quote.values)\n",
    "X = x.tocsc()\n",
    "Y = (reviews.fresh == \"fresh\").values.astype(np.int)\n",
    "my_features = my_vectorizer.get_feature_names()\n",
    "clf = MultinomialNB()\n",
    "my_new_model = clf.fit(X,Y)\n",
    "\n",
    "#Use identity matrix with all possible features\n",
    "n_feat = X.shape[1]\n",
    "X_identity = np.identity(n_feat)\n",
    "\n",
    "#Find the probabilities for predicting rotten or fresh using identity matrix\n",
    "#In other words, what are the probabilities if each word appears exactly once in data\n",
    "probs = my_new_model.predict_log_proba(X_identity)[:,0]\n",
    "\n",
    "#Create dataframe with feature name and its sorted coefficients\n",
    "feature_coef_df = pd.DataFrame({\"feature\": my_features,\n",
    "                               \"probabilities\": probs})\n",
    "sorted_feature_df = feature_coef_df.sort_values(\"probabilities\",ascending=True)"
   ]
  },
  {
   "cell_type": "markdown",
   "metadata": {},
   "source": [
    "The first table reports the ten words from reviews that best indicate a \"fresh\" review along with the log probabilities. \n",
    "\n",
    "The second table, on the other hand, reports the ten words from reviews that best indicate the critic viewed the movie as \"rotten\" overall."
   ]
  },
  {
   "cell_type": "code",
   "execution_count": 70,
   "metadata": {
    "collapsed": false
   },
   "outputs": [
    {
     "data": {
      "text/html": [
       "<div>\n",
       "<table border=\"1\" class=\"dataframe\">\n",
       "  <thead>\n",
       "    <tr style=\"text-align: right;\">\n",
       "      <th></th>\n",
       "      <th>feature</th>\n",
       "      <th>probabilities</th>\n",
       "    </tr>\n",
       "  </thead>\n",
       "  <tbody>\n",
       "    <tr>\n",
       "      <th>4751</th>\n",
       "      <td>delight</td>\n",
       "      <td>-3.848451</td>\n",
       "    </tr>\n",
       "    <tr>\n",
       "      <th>9704</th>\n",
       "      <td>intimate</td>\n",
       "      <td>-3.395639</td>\n",
       "    </tr>\n",
       "    <tr>\n",
       "      <th>2741</th>\n",
       "      <td>captures</td>\n",
       "      <td>-3.321356</td>\n",
       "    </tr>\n",
       "    <tr>\n",
       "      <th>12175</th>\n",
       "      <td>myth</td>\n",
       "      <td>-3.241108</td>\n",
       "    </tr>\n",
       "    <tr>\n",
       "      <th>3116</th>\n",
       "      <td>childhood</td>\n",
       "      <td>-3.241108</td>\n",
       "    </tr>\n",
       "    <tr>\n",
       "      <th>15655</th>\n",
       "      <td>rousing</td>\n",
       "      <td>-3.198433</td>\n",
       "    </tr>\n",
       "    <tr>\n",
       "      <th>16137</th>\n",
       "      <td>seductive</td>\n",
       "      <td>-3.153856</td>\n",
       "    </tr>\n",
       "    <tr>\n",
       "      <th>19536</th>\n",
       "      <td>unforgettable</td>\n",
       "      <td>-3.107197</td>\n",
       "    </tr>\n",
       "    <tr>\n",
       "      <th>6456</th>\n",
       "      <td>expertly</td>\n",
       "      <td>-3.107197</td>\n",
       "    </tr>\n",
       "  </tbody>\n",
       "</table>\n",
       "</div>"
      ],
      "text/plain": [
       "             feature  probabilities\n",
       "4751         delight      -3.848451\n",
       "9704        intimate      -3.395639\n",
       "2741        captures      -3.321356\n",
       "12175           myth      -3.241108\n",
       "3116       childhood      -3.241108\n",
       "15655        rousing      -3.198433\n",
       "16137      seductive      -3.153856\n",
       "19536  unforgettable      -3.107197\n",
       "6456        expertly      -3.107197"
      ]
     },
     "execution_count": 70,
     "metadata": {},
     "output_type": "execute_result"
    }
   ],
   "source": [
    "#First ten features (most negative log prob) are best ten indicators for fresh\n",
    "top_10_fresh_words = sorted_feature_df[0:9]\n",
    "top_10_fresh_words"
   ]
  },
  {
   "cell_type": "code",
   "execution_count": 71,
   "metadata": {
    "collapsed": false
   },
   "outputs": [
    {
     "data": {
      "text/html": [
       "<div>\n",
       "<table border=\"1\" class=\"dataframe\">\n",
       "  <thead>\n",
       "    <tr style=\"text-align: right;\">\n",
       "      <th></th>\n",
       "      <th>feature</th>\n",
       "      <th>probabilities</th>\n",
       "    </tr>\n",
       "  </thead>\n",
       "  <tbody>\n",
       "    <tr>\n",
       "      <th>16875</th>\n",
       "      <td>sluggish</td>\n",
       "      <td>-0.078947</td>\n",
       "    </tr>\n",
       "    <tr>\n",
       "      <th>20583</th>\n",
       "      <td>witless</td>\n",
       "      <td>-0.078947</td>\n",
       "    </tr>\n",
       "    <tr>\n",
       "      <th>12583</th>\n",
       "      <td>obnoxious</td>\n",
       "      <td>-0.078947</td>\n",
       "    </tr>\n",
       "    <tr>\n",
       "      <th>5131</th>\n",
       "      <td>disappointingly</td>\n",
       "      <td>-0.073510</td>\n",
       "    </tr>\n",
       "    <tr>\n",
       "      <th>18792</th>\n",
       "      <td>tiresome</td>\n",
       "      <td>-0.060924</td>\n",
       "    </tr>\n",
       "    <tr>\n",
       "      <th>15750</th>\n",
       "      <td>sadly</td>\n",
       "      <td>-0.060924</td>\n",
       "    </tr>\n",
       "    <tr>\n",
       "      <th>19574</th>\n",
       "      <td>uninspired</td>\n",
       "      <td>-0.047400</td>\n",
       "    </tr>\n",
       "    <tr>\n",
       "      <th>19543</th>\n",
       "      <td>unfortunately</td>\n",
       "      <td>-0.047400</td>\n",
       "    </tr>\n",
       "    <tr>\n",
       "      <th>13776</th>\n",
       "      <td>pointless</td>\n",
       "      <td>-0.040253</td>\n",
       "    </tr>\n",
       "    <tr>\n",
       "      <th>10370</th>\n",
       "      <td>lame</td>\n",
       "      <td>-0.038790</td>\n",
       "    </tr>\n",
       "  </tbody>\n",
       "</table>\n",
       "</div>"
      ],
      "text/plain": [
       "               feature  probabilities\n",
       "16875         sluggish      -0.078947\n",
       "20583          witless      -0.078947\n",
       "12583        obnoxious      -0.078947\n",
       "5131   disappointingly      -0.073510\n",
       "18792         tiresome      -0.060924\n",
       "15750            sadly      -0.060924\n",
       "19574       uninspired      -0.047400\n",
       "19543    unfortunately      -0.047400\n",
       "13776        pointless      -0.040253\n",
       "10370             lame      -0.038790"
      ]
     },
     "execution_count": 71,
     "metadata": {},
     "output_type": "execute_result"
    }
   ],
   "source": [
    "#Last ten features (least negative log prob) are best ten indicators for rotten\n",
    "top_10_rotten_words = sorted_feature_df[(n_feat-10):n_feat]\n",
    "top_10_rotten_words"
   ]
  },
  {
   "cell_type": "markdown",
   "metadata": {},
   "source": [
    "Using our model for an n x n identity matrix where n is the number of features within our dataset allows us to find the probabilities (log for faster computation) of each feature—found exactly once in the dataset—predicting Y=0 (i.e., \"rotten\"). \n",
    "\n",
    "The smallest ten probabilities (most negative log-probabilities) indicate the ten best words for predicting \"fresh\" reviews under our model. \n",
    "\n",
    "Conversely, the largest ten probabilities (least negative log-probabilities) indicate the ten best words for predicting \"rotten\" reviews.\n",
    "\n",
    "It looks like our model performed very well as each \"fresh\" predicting word has positive connotations (e.g., \"delight,\" \"unforgettable,\" \"rousing.\"\n",
    "\n",
    "The top ten \"rotten\" predicting words have strong negative connotations (e.g., \"lame\", \"uninspired\", \"pointless\"). "
   ]
  },
  {
   "cell_type": "markdown",
   "metadata": {},
   "source": [
    "### 3.6 Error Analysis\n",
    "\n",
    "To see where our Naive Bayes classifier falls short, we can view a handful of reviews where the model predicted the wrong outcome."
   ]
  },
  {
   "cell_type": "code",
   "execution_count": 72,
   "metadata": {
    "collapsed": false
   },
   "outputs": [],
   "source": [
    "#Find my model's log-probabilities that Y=1 (\"fresh\")\n",
    "prob_X = my_new_model.predict_log_proba(X)[:,1]\n",
    "#Create dataframe with log-probabilities and actual labels\n",
    "prob_check = pd.DataFrame({\"probability\": prob_X,\n",
    "                           \"actual\": Y})\n",
    "\n",
    "#Create subsets of df for reviews that were actually fresh and actually rotten\n",
    "check_fresh = prob_check[prob_check.actual==1]\n",
    "check_rotten = prob_check[prob_check.actual==0]\n",
    "\n",
    "#Sort fresh subset with lowest probabilities first (poor predictions at top)\n",
    "#Sort rotten subset with highest probabilities first (poor predictions at top)\n",
    "sorted_check_fresh = check_fresh.sort_values(\"probability\",ascending=True)\n",
    "sorted_check_rotten = check_rotten.sort_values(\"probability\",ascending=False)\n",
    "\n",
    "#Find top 5 worst prediction probabilities for each data subset\n",
    "top5_poor_predictions_fresh = sorted_check_fresh[0:5]\n",
    "top5_poor_predictions_rotten = sorted_check_rotten[0:5]\n",
    "\n",
    "#Find indices\n",
    "top5_bad_fresh = top5_poor_predictions_fresh.index\n",
    "top5_bad_rotten = top5_poor_predictions_rotten.index\n",
    "\n",
    "#Match with actual reviews\n",
    "top5_bad_fresh_quotes = reviews[\"quote\"][top5_bad_fresh]\n",
    "top5_bad_rotten_quotes = reviews[\"quote\"][top5_bad_rotten]"
   ]
  },
  {
   "cell_type": "markdown",
   "metadata": {},
   "source": [
    "#### Five fresh reviews that the classifier predicted would be rotten"
   ]
  },
  {
   "cell_type": "code",
   "execution_count": 73,
   "metadata": {
    "collapsed": false
   },
   "outputs": [
    {
     "name": "stdout",
     "output_type": "stream",
     "text": [
      "1872                                                  Some of the gags don't work, but fewer than in any previous Brooks film that I've seen, and when the jokes are meant to be bad, they are riotously poor. What more can one ask of Mel Brooks?\n",
      "12605                                                    There's too much talent and too strong a story to mess it up. There was potential for more here, but this incarnation is nothing to be ashamed of, and some of the actors answer the bell.\n",
      "5704                                                  The gangland plot is flimsy (bad guy Peter Greene wears too much eyeliner), and the jokes are erratic, but it's a far better showcase for Carrey's comic-from-Uranus talent than Ace Ventura.\n",
      "1665                                                                  A kind of insane logic seems to connect the sketches, if you look hard enough, but mostly the movie seems to exist in the present and be willing to try anything for a laugh.\n",
      "1695     There is only one problem with the excitement generated by this film. After it is over, you will walk out of the theater and, as I did, curse the tedium of your own life. I kept looking for someone who I could throw up against a wall.\n",
      "Name: quote, dtype: object\n"
     ]
    }
   ],
   "source": [
    "pd.options.display.max_colwidth = 1000\n",
    "print(top5_bad_fresh_quotes)"
   ]
  },
  {
   "cell_type": "markdown",
   "metadata": {},
   "source": [
    "#### Five rotten reviews that the classifier predicted would be fresh"
   ]
  },
  {
   "cell_type": "code",
   "execution_count": 74,
   "metadata": {
    "collapsed": false
   },
   "outputs": [
    {
     "name": "stdout",
     "output_type": "stream",
     "text": [
      "9129                                                                                                                   The Waterboy is arguably Sandler's most enjoyable motion picture to date, but it's still far from a masterpiece.\n",
      "8456                                                                                It's a sad day when an actor who's totally, beautifully in touch with his dark side finds himself stuck in a movie that's scared of its own shadow.\n",
      "11692                                               This pacifist spirit of brotherhood echoes the heroics in Princess Mononoke and other anime titles, but the artistic gap between the Miyazaki masterpiece and this project is huge.\n",
      "13275    What if this lesser-known chapter of German resistance had been more deeply captured? What if the moral conflicts running through this movie about love of country and revolt said more about Germany, war and, yes, genocide?\n",
      "10030                                                                        If it's to be experienced at all, Return to Paradise is best seen as a lively piece of pulp, not a profound exploration of the vagaries of the human soul.\n",
      "Name: quote, dtype: object\n"
     ]
    }
   ],
   "source": [
    "pd.options.display.max_colwidth = 1000\n",
    "print(top5_bad_rotten_quotes)"
   ]
  },
  {
   "cell_type": "markdown",
   "metadata": {},
   "source": [
    "For fresh reviews that the model incorrectly predicted would be rotten, there are many negative words, but the overall sentiment leans positive. For example, review 1872 uses words like \"bad\" and \"poor,\" but the critic is actually applauding how funny the movie is because of the over-the-top, \"bad\" jokes.\n",
    "\n",
    "For incorrectly labeled rotten reviews, we observe the opposite effect. In review 9129, the critic uses words like \"enjoyable\" and \"masterpiece\" when he is really saying that the film is NOT a masterpiece. Other reviews in this misclassification seem to be lukewarm—offering a few compliments in what they deemed to be a poor film overall.\n",
    "\n",
    "In both cases, we see the pitfall of Naive Bayes' assumption of mutual independence between all words within a review. Looking back at review 1872, the author used the phrase  \"riotously poor\"—two negative words that come together to form a sense of twisted humor. \n",
    "\n",
    "To show an exaggerated example of this problem, we can test the quote (\"This movie is not remarkable, touching, or superb in any way\"):"
   ]
  },
  {
   "cell_type": "code",
   "execution_count": 75,
   "metadata": {
    "collapsed": false
   },
   "outputs": [
    {
     "name": "stdout",
     "output_type": "stream",
     "text": [
      "For the quote, 'This movie is not remarkable, touching, or superb in any way,' \n",
      "our model predicted a 'fresh' probability of 0.9994.\n"
     ]
    }
   ],
   "source": [
    "#Test the given quote using my model\n",
    "new_quote = [\"This movie is not remarkable, touching, or superb in any way\"]\n",
    "newx = my_vectorizer.transform(new_quote)\n",
    "newX = newx.tocsc()\n",
    "prob_newX_fresh = my_new_model.predict_proba(newX)[0][1]\n",
    "print(\"For the quote, 'This movie is not remarkable, touching, or superb in any way,' \\n\" \n",
    "      \"our model predicted a 'fresh' probability of %.4f.\" % prob_newX_fresh)"
   ]
  },
  {
   "cell_type": "markdown",
   "metadata": {},
   "source": [
    "In this example, the model gave a very strong prediction in favor of \"fresh.\" Obviously, when we read the whole sentence, it is clear this statement is very negative. However, when we treat each word as an independent predicting feature, we have very positive words \"remarkable,\" \"touching,\" and \"superb.\" Only the word \"not\" has negative connotation, and it certainly isn't as powerful as the sentence's positive words. \n",
    "\n",
    "So we have some prime examples of how treating each word as an independent feature can cause misclassification when using Naive Bayes."
   ]
  },
  {
   "cell_type": "markdown",
   "metadata": {},
   "source": [
    "## Conclusion\n",
    "\n",
    "The Rotten Tomatoes data used for this example analysis simply provides a non-\"spam vs. ham email\" example of how Naive Bayes classification can work for binary outcomes. The analyses I performed resulted in over 75% prediction accuracy for the testing data using a fairly rudimentary Naive Bayes model. I was not expecting that kind of performance given the outlandish assumption of mutual independence between all words within a single review and the sheer complexity of the English language.\n",
    "\n",
    "Of course, there are examples like the ten listed above where violation of the independence assumption results in an inaccurate prediction. However, we can always make improvements on the model. For example, we may consider excluding negation words like \"not\" by imposing stop words. "
   ]
  }
 ],
 "metadata": {
  "anaconda-cloud": {},
  "kernelspec": {
   "display_name": "Python 3",
   "language": "python",
   "name": "python3"
  },
  "language_info": {
   "codemirror_mode": {
    "name": "ipython",
    "version": 3
   },
   "file_extension": ".py",
   "mimetype": "text/x-python",
   "name": "python",
   "nbconvert_exporter": "python",
   "pygments_lexer": "ipython3",
   "version": "3.6.0"
  }
 },
 "nbformat": 4,
 "nbformat_minor": 0
}
